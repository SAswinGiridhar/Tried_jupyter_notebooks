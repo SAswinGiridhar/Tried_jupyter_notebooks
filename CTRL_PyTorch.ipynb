{
  "nbformat": 4,
  "nbformat_minor": 0,
  "metadata": {
    "colab": {
      "name": "CTRL_PyTorch.ipynb",
      "provenance": [],
      "collapsed_sections": [],
      "include_colab_link": true
    },
    "kernelspec": {
      "name": "python3",
      "display_name": "Python 3"
    },
    "accelerator": "GPU"
  },
  "cells": [
    {
      "cell_type": "markdown",
      "metadata": {
        "id": "view-in-github",
        "colab_type": "text"
      },
      "source": [
        "<a href=\"https://colab.research.google.com/github/aswingiridhar96/Tried_jupyter_notebooks/blob/master/CTRL_PyTorch.ipynb\" target=\"_parent\"><img src=\"https://colab.research.google.com/assets/colab-badge.svg\" alt=\"Open In Colab\"/></a>"
      ]
    },
    {
      "cell_type": "code",
      "metadata": {
        "id": "qZwre0VbYuI1",
        "colab_type": "code",
        "colab": {
          "base_uri": "https://localhost:8080/",
          "height": 369
        },
        "outputId": "b11f9738-bf94-4d73-8274-35b339e39eae"
      },
      "source": [
        "!nvidia-smi"
      ],
      "execution_count": 1,
      "outputs": [
        {
          "output_type": "stream",
          "text": [
            "Wed Aug 19 12:58:20 2020       \n",
            "+-----------------------------------------------------------------------------+\n",
            "| NVIDIA-SMI 450.57       Driver Version: 418.67       CUDA Version: 10.1     |\n",
            "|-------------------------------+----------------------+----------------------+\n",
            "| GPU  Name        Persistence-M| Bus-Id        Disp.A | Volatile Uncorr. ECC |\n",
            "| Fan  Temp  Perf  Pwr:Usage/Cap|         Memory-Usage | GPU-Util  Compute M. |\n",
            "|                               |                      |               MIG M. |\n",
            "|===============================+======================+======================|\n",
            "|   0  Tesla K80           Off  | 00000000:00:04.0 Off |                    0 |\n",
            "| N/A   40C    P8    28W / 149W |      0MiB / 11441MiB |      0%      Default |\n",
            "|                               |                      |                 ERR! |\n",
            "+-------------------------------+----------------------+----------------------+\n",
            "                                                                               \n",
            "+-----------------------------------------------------------------------------+\n",
            "| Processes:                                                                  |\n",
            "|  GPU   GI   CI        PID   Type   Process name                  GPU Memory |\n",
            "|        ID   ID                                                   Usage      |\n",
            "|=============================================================================|\n",
            "|  No running processes found                                                 |\n",
            "+-----------------------------------------------------------------------------+\n"
          ],
          "name": "stdout"
        }
      ]
    },
    {
      "cell_type": "code",
      "metadata": {
        "id": "mTHa-F9JY23e",
        "colab_type": "code",
        "colab": {
          "base_uri": "https://localhost:8080/",
          "height": 649
        },
        "outputId": "424521ce-4405-419a-9ac9-0cddf15a7d50"
      },
      "source": [
        "!pip install tensorflow-gpu==1.14"
      ],
      "execution_count": null,
      "outputs": [
        {
          "output_type": "stream",
          "text": [
            "Collecting tensorflow-gpu==1.14\n",
            "\u001b[?25l  Downloading https://files.pythonhosted.org/packages/76/04/43153bfdfcf6c9a4c38ecdb971ca9a75b9a791bb69a764d652c359aca504/tensorflow_gpu-1.14.0-cp36-cp36m-manylinux1_x86_64.whl (377.0MB)\n",
            "\u001b[K     |████████████████████████████████| 377.0MB 75kB/s \n",
            "\u001b[?25hRequirement already satisfied: six>=1.10.0 in /usr/local/lib/python3.6/dist-packages (from tensorflow-gpu==1.14) (1.12.0)\n",
            "Collecting tensorboard<1.15.0,>=1.14.0 (from tensorflow-gpu==1.14)\n",
            "\u001b[?25l  Downloading https://files.pythonhosted.org/packages/91/2d/2ed263449a078cd9c8a9ba50ebd50123adf1f8cfbea1492f9084169b89d9/tensorboard-1.14.0-py3-none-any.whl (3.1MB)\n",
            "\u001b[K     |████████████████████████████████| 3.2MB 30.4MB/s \n",
            "\u001b[?25hRequirement already satisfied: termcolor>=1.1.0 in /usr/local/lib/python3.6/dist-packages (from tensorflow-gpu==1.14) (1.1.0)\n",
            "Requirement already satisfied: astor>=0.6.0 in /usr/local/lib/python3.6/dist-packages (from tensorflow-gpu==1.14) (0.8.0)\n",
            "Requirement already satisfied: keras-preprocessing>=1.0.5 in /usr/local/lib/python3.6/dist-packages (from tensorflow-gpu==1.14) (1.1.0)\n",
            "Requirement already satisfied: gast>=0.2.0 in /usr/local/lib/python3.6/dist-packages (from tensorflow-gpu==1.14) (0.2.2)\n",
            "Requirement already satisfied: numpy<2.0,>=1.14.5 in /usr/local/lib/python3.6/dist-packages (from tensorflow-gpu==1.14) (1.16.5)\n",
            "Collecting tensorflow-estimator<1.15.0rc0,>=1.14.0rc0 (from tensorflow-gpu==1.14)\n",
            "\u001b[?25l  Downloading https://files.pythonhosted.org/packages/3c/d5/21860a5b11caf0678fbc8319341b0ae21a07156911132e0e71bffed0510d/tensorflow_estimator-1.14.0-py2.py3-none-any.whl (488kB)\n",
            "\u001b[K     |████████████████████████████████| 491kB 42.5MB/s \n",
            "\u001b[?25hRequirement already satisfied: wrapt>=1.11.1 in /usr/local/lib/python3.6/dist-packages (from tensorflow-gpu==1.14) (1.11.2)\n",
            "Requirement already satisfied: keras-applications>=1.0.6 in /usr/local/lib/python3.6/dist-packages (from tensorflow-gpu==1.14) (1.0.8)\n",
            "Requirement already satisfied: grpcio>=1.8.6 in /usr/local/lib/python3.6/dist-packages (from tensorflow-gpu==1.14) (1.15.0)\n",
            "Requirement already satisfied: protobuf>=3.6.1 in /usr/local/lib/python3.6/dist-packages (from tensorflow-gpu==1.14) (3.7.1)\n",
            "Requirement already satisfied: absl-py>=0.7.0 in /usr/local/lib/python3.6/dist-packages (from tensorflow-gpu==1.14) (0.8.0)\n",
            "Requirement already satisfied: wheel>=0.26 in /usr/local/lib/python3.6/dist-packages (from tensorflow-gpu==1.14) (0.33.6)\n",
            "Requirement already satisfied: google-pasta>=0.1.6 in /usr/local/lib/python3.6/dist-packages (from tensorflow-gpu==1.14) (0.1.7)\n",
            "Requirement already satisfied: werkzeug>=0.11.15 in /usr/local/lib/python3.6/dist-packages (from tensorboard<1.15.0,>=1.14.0->tensorflow-gpu==1.14) (0.16.0)\n",
            "Requirement already satisfied: setuptools>=41.0.0 in /usr/local/lib/python3.6/dist-packages (from tensorboard<1.15.0,>=1.14.0->tensorflow-gpu==1.14) (41.2.0)\n",
            "Requirement already satisfied: markdown>=2.6.8 in /usr/local/lib/python3.6/dist-packages (from tensorboard<1.15.0,>=1.14.0->tensorflow-gpu==1.14) (3.1.1)\n",
            "Requirement already satisfied: h5py in /usr/local/lib/python3.6/dist-packages (from keras-applications>=1.0.6->tensorflow-gpu==1.14) (2.8.0)\n",
            "\u001b[31mERROR: tensorflow 1.15.0rc3 has requirement tensorboard<1.16.0,>=1.15.0, but you'll have tensorboard 1.14.0 which is incompatible.\u001b[0m\n",
            "\u001b[31mERROR: tensorflow 1.15.0rc3 has requirement tensorflow-estimator==1.15.1, but you'll have tensorflow-estimator 1.14.0 which is incompatible.\u001b[0m\n",
            "Installing collected packages: tensorboard, tensorflow-estimator, tensorflow-gpu\n",
            "  Found existing installation: tensorboard 1.15.0\n",
            "    Uninstalling tensorboard-1.15.0:\n",
            "      Successfully uninstalled tensorboard-1.15.0\n",
            "  Found existing installation: tensorflow-estimator 1.15.1\n",
            "    Uninstalling tensorflow-estimator-1.15.1:\n",
            "      Successfully uninstalled tensorflow-estimator-1.15.1\n",
            "Successfully installed tensorboard-1.14.0 tensorflow-estimator-1.14.0 tensorflow-gpu-1.14.0\n"
          ],
          "name": "stdout"
        }
      ]
    },
    {
      "cell_type": "code",
      "metadata": {
        "id": "visiqGCKY4z9",
        "colab_type": "code",
        "colab": {
          "base_uri": "https://localhost:8080/",
          "height": 51
        },
        "outputId": "e00b4381-0130-44e5-b7f4-4078d9628f7c"
      },
      "source": [
        "!pip install torch"
      ],
      "execution_count": null,
      "outputs": [
        {
          "output_type": "stream",
          "text": [
            "Requirement already satisfied: torch in /usr/local/lib/python3.6/dist-packages (1.2.0)\n",
            "Requirement already satisfied: numpy in /usr/local/lib/python3.6/dist-packages (from torch) (1.16.5)\n"
          ],
          "name": "stdout"
        }
      ]
    },
    {
      "cell_type": "code",
      "metadata": {
        "id": "pRTVGAmAY5_s",
        "colab_type": "code",
        "colab": {
          "base_uri": "https://localhost:8080/",
          "height": 136
        },
        "outputId": "a47eee1a-80c7-4c8f-b7f0-c099e3d78d72"
      },
      "source": [
        "!git clone https://github.com/salesforce/ctrl"
      ],
      "execution_count": null,
      "outputs": [
        {
          "output_type": "stream",
          "text": [
            "Cloning into 'ctrl'...\n",
            "remote: Enumerating objects: 123, done.\u001b[K\n",
            "remote: Counting objects: 100% (123/123), done.\u001b[K\n",
            "remote: Compressing objects: 100% (101/101), done.\u001b[K\n",
            "remote: Total 123 (delta 72), reused 51 (delta 22), pack-reused 0\u001b[K\n",
            "Receiving objects: 100% (123/123), 24.25 MiB | 8.72 MiB/s, done.\n",
            "Resolving deltas: 100% (72/72), done.\n"
          ],
          "name": "stdout"
        }
      ]
    },
    {
      "cell_type": "code",
      "metadata": {
        "id": "t34-XzoyZBJy",
        "colab_type": "code",
        "colab": {
          "base_uri": "https://localhost:8080/",
          "height": 34
        },
        "outputId": "c64e56f5-93d3-4bdf-e669-8348f5a15652"
      },
      "source": [
        "%cd ctrl/"
      ],
      "execution_count": null,
      "outputs": [
        {
          "output_type": "stream",
          "text": [
            "/content/ctrl\n"
          ],
          "name": "stdout"
        }
      ]
    },
    {
      "cell_type": "code",
      "metadata": {
        "id": "uUPfQ11hZCD8",
        "colab_type": "code",
        "colab": {
          "base_uri": "https://localhost:8080/",
          "height": 190
        },
        "outputId": "5badf2e9-18b5-4ab5-ae9b-600d04217a48"
      },
      "source": [
        "!pip2 install fastBPE"
      ],
      "execution_count": null,
      "outputs": [
        {
          "output_type": "stream",
          "text": [
            "Collecting fastBPE\n",
            "  Downloading https://files.pythonhosted.org/packages/e1/37/f97181428a5d151501b90b2cebedf97c81b034ace753606a3cda5ad4e6e2/fastBPE-0.1.0.tar.gz\n",
            "Building wheels for collected packages: fastBPE\n",
            "  Building wheel for fastBPE (setup.py) ... \u001b[?25l\u001b[?25hdone\n",
            "  Created wheel for fastBPE: filename=fastBPE-0.1.0-cp27-cp27mu-linux_x86_64.whl size=472484 sha256=d3cb34e00a06447d2c5ae531c3c755ccfb90a3863ba545f5a84aaf9635910f33\n",
            "  Stored in directory: /root/.cache/pip/wheels/f3/0c/9c/fc62058b4d473a5602bcd3d3edfece796f123875379ea82d79\n",
            "Successfully built fastBPE\n",
            "Installing collected packages: fastBPE\n",
            "Successfully installed fastBPE-0.1.0\n"
          ],
          "name": "stdout"
        }
      ]
    },
    {
      "cell_type": "code",
      "metadata": {
        "id": "5x78nEzVZE1E",
        "colab_type": "code",
        "colab": {
          "base_uri": "https://localhost:8080/",
          "height": 1000
        },
        "outputId": "e397d1ac-cb12-4995-a9be-36091be323d7"
      },
      "source": [
        "!pip2 install gsutil"
      ],
      "execution_count": null,
      "outputs": [
        {
          "output_type": "stream",
          "text": [
            "Collecting gsutil\n",
            "\u001b[?25l  Downloading https://files.pythonhosted.org/packages/56/8e/79826e7137bae4d8ece22b763439a5f4bb9b660ae6c343864c9ae84c956e/gsutil-4.44.tar.gz (2.3MB)\n",
            "\u001b[K     |████████████████████████████████| 2.3MB 2.8MB/s \n",
            "\u001b[?25hCollecting argcomplete>=1.9.4 (from gsutil)\n",
            "  Downloading https://files.pythonhosted.org/packages/4d/82/f44c9661e479207348a979b1f6f063625d11dc4ca6256af053719bbb0124/argcomplete-1.10.0-py2.py3-none-any.whl\n",
            "Requirement already satisfied: crcmod>=1.7 in /usr/local/lib/python2.7/dist-packages (from gsutil) (1.7)\n",
            "Collecting fasteners>=0.14.1 (from gsutil)\n",
            "  Downloading https://files.pythonhosted.org/packages/18/bd/55eb2d6397b9c0e263af9d091ebdb756b15756029b3cededf6461481bc63/fasteners-0.15-py2.py3-none-any.whl\n",
            "Collecting gcs-oauth2-boto-plugin>=2.5 (from gsutil)\n",
            "  Downloading https://files.pythonhosted.org/packages/11/d0/45b69da0d40365fa8ecdf4f93d7847dc2079845c821edcf183675db0e77a/gcs-oauth2-boto-plugin-2.5.tar.gz\n",
            "Collecting google-apitools>=0.5.30 (from gsutil)\n",
            "\u001b[?25l  Downloading https://files.pythonhosted.org/packages/60/68/36a4044876acc2ed217abdaa5474be4951d0efd8c8f5c3adc48c87bd2923/google_apitools-0.5.30-py2-none-any.whl (134kB)\n",
            "\u001b[K     |████████████████████████████████| 143kB 46.1MB/s \n",
            "\u001b[?25hRequirement already satisfied: httplib2>=0.11.3 in /usr/local/lib/python2.7/dist-packages (from gsutil) (0.11.3)\n",
            "Collecting google-reauth>=0.1.0 (from gsutil)\n",
            "  Downloading https://files.pythonhosted.org/packages/c3/2c/3eeab6508a7243ad83747dd1e273df21a798c5998813c83f482df90f5790/google_reauth-0.1.0-py2.py3-none-any.whl\n",
            "Requirement already satisfied: mock==2.0.0 in /usr/local/lib/python2.7/dist-packages (from gsutil) (2.0.0)\n",
            "Collecting monotonic>=1.4 (from gsutil)\n",
            "  Downloading https://files.pythonhosted.org/packages/ac/aa/063eca6a416f397bd99552c534c6d11d57f58f2e94c14780f3bbf818c4cf/monotonic-1.5-py2.py3-none-any.whl\n",
            "Requirement already satisfied: oauth2client==4.1.3 in /usr/local/lib/python2.7/dist-packages (from gsutil) (4.1.3)\n",
            "Collecting pyOpenSSL>=0.13 (from gsutil)\n",
            "\u001b[?25l  Downloading https://files.pythonhosted.org/packages/01/c8/ceb170d81bd3941cbeb9940fc6cc2ef2ca4288d0ca8929ea4db5905d904d/pyOpenSSL-19.0.0-py2.py3-none-any.whl (53kB)\n",
            "\u001b[K     |████████████████████████████████| 61kB 19.5MB/s \n",
            "\u001b[?25hCollecting retry_decorator>=1.0.0 (from gsutil)\n",
            "  Downloading https://files.pythonhosted.org/packages/95/7a/807ac21749ecd26ae3337c3069ed6ac8658b9fbc85f109e419a812b18ab7/retry_decorator-1.1.0.tar.gz\n",
            "Requirement already satisfied: six>=1.12.0 in /usr/local/lib/python2.7/dist-packages (from gsutil) (1.12.0)\n",
            "Collecting SocksiPy-branch==1.01 (from gsutil)\n",
            "  Downloading https://files.pythonhosted.org/packages/69/ed/3659a7e2cff38c3156cf919f8f6ee63360147ba97460c0a8c130f8b781e0/SocksiPy-branch-1.01.tar.gz\n",
            "Requirement already satisfied: boto>=2.29.1 in /usr/local/lib/python2.7/dist-packages (from gcs-oauth2-boto-plugin>=2.5->gsutil) (2.49.0)\n",
            "Collecting pyu2f (from google-reauth>=0.1.0->gsutil)\n",
            "  Downloading https://files.pythonhosted.org/packages/b0/6d/0fd9107b92c792e62cdeaeca2dfe40928898509aba82d81656d53e610c64/pyu2f-0.1.4.tar.gz\n",
            "Requirement already satisfied: funcsigs>=1; python_version < \"3.3\" in /usr/local/lib/python2.7/dist-packages (from mock==2.0.0->gsutil) (1.0.2)\n",
            "Requirement already satisfied: pbr>=0.11 in /usr/local/lib/python2.7/dist-packages (from mock==2.0.0->gsutil) (5.4.0)\n",
            "Requirement already satisfied: rsa>=3.1.4 in /usr/local/lib/python2.7/dist-packages (from oauth2client==4.1.3->gsutil) (4.0)\n",
            "Requirement already satisfied: pyasn1>=0.1.7 in /usr/local/lib/python2.7/dist-packages (from oauth2client==4.1.3->gsutil) (0.4.5)\n",
            "Requirement already satisfied: pyasn1-modules>=0.0.5 in /usr/local/lib/python2.7/dist-packages (from oauth2client==4.1.3->gsutil) (0.2.5)\n",
            "Collecting cryptography>=2.3 (from pyOpenSSL>=0.13->gsutil)\n",
            "\u001b[?25l  Downloading https://files.pythonhosted.org/packages/e6/68/50698ce24c61db7d44d93a5043c621a0ca7839d4ef9dff913e6ab465fc92/cryptography-2.7-cp27-cp27mu-manylinux1_x86_64.whl (2.3MB)\n",
            "\u001b[K     |████████████████████████████████| 2.3MB 33.4MB/s \n",
            "\u001b[?25hCollecting asn1crypto>=0.21.0 (from cryptography>=2.3->pyOpenSSL>=0.13->gsutil)\n",
            "\u001b[?25l  Downloading https://files.pythonhosted.org/packages/6e/1e/fb0e487b5229e5fb7b15c6d00b4e8082a3414fe62b1da4c9a905b106e672/asn1crypto-1.1.0-py2.py3-none-any.whl (103kB)\n",
            "\u001b[K     |████████████████████████████████| 112kB 40.4MB/s \n",
            "\u001b[?25hRequirement already satisfied: enum34; python_version < \"3\" in /usr/local/lib/python2.7/dist-packages (from cryptography>=2.3->pyOpenSSL>=0.13->gsutil) (1.1.6)\n",
            "Requirement already satisfied: ipaddress; python_version < \"3\" in /usr/local/lib/python2.7/dist-packages (from cryptography>=2.3->pyOpenSSL>=0.13->gsutil) (1.0.22)\n",
            "Requirement already satisfied: cffi!=1.11.3,>=1.8 in /usr/local/lib/python2.7/dist-packages (from cryptography>=2.3->pyOpenSSL>=0.13->gsutil) (1.12.3)\n",
            "Requirement already satisfied: pycparser in /usr/local/lib/python2.7/dist-packages (from cffi!=1.11.3,>=1.8->cryptography>=2.3->pyOpenSSL>=0.13->gsutil) (2.19)\n",
            "Building wheels for collected packages: gsutil, gcs-oauth2-boto-plugin, retry-decorator, SocksiPy-branch, pyu2f\n",
            "  Building wheel for gsutil (setup.py) ... \u001b[?25l\u001b[?25hdone\n",
            "  Created wheel for gsutil: filename=gsutil-4.44-cp27-none-any.whl size=3036310 sha256=b32b98bdc3c08d880400e2bf07003c7b97ad6a0d5cc40500fdc067d40f2a21ae\n",
            "  Stored in directory: /root/.cache/pip/wheels/6f/93/e6/428e2b67cfdc550cc9edc8bc5aa792782d786352984ab5f274\n",
            "  Building wheel for gcs-oauth2-boto-plugin (setup.py) ... \u001b[?25l\u001b[?25hdone\n",
            "  Created wheel for gcs-oauth2-boto-plugin: filename=gcs_oauth2_boto_plugin-2.5-cp27-none-any.whl size=19001 sha256=cbb4916badb9e47996b8ffaa85ea601e8331d36fb658edd3e93ace7cfb3ac8fd\n",
            "  Stored in directory: /root/.cache/pip/wheels/12/98/2d/f3ef8476709ea17c646a4606a32c0273b5dbb48ef36f4fb33d\n",
            "  Building wheel for retry-decorator (setup.py) ... \u001b[?25l\u001b[?25hdone\n",
            "  Created wheel for retry-decorator: filename=retry_decorator-1.1.0-cp27-none-any.whl size=3543 sha256=5d8e93953c56974c66c04c46ac0112a8ace89fe20da966dcaf6fab203fc838b6\n",
            "  Stored in directory: /root/.cache/pip/wheels/7b/d0/2d/95d0b1a343696e56b9738a513a0b40de2d64cf731e73c91ca2\n",
            "  Building wheel for SocksiPy-branch (setup.py) ... \u001b[?25l\u001b[?25hdone\n",
            "  Created wheel for SocksiPy-branch: filename=SocksiPy_branch-1.1-cp27-none-any.whl size=5863 sha256=b86c4ef809e7fc83c622f8fc9399dba13fefb6662f385de1e28a5220a20b18e6\n",
            "  Stored in directory: /root/.cache/pip/wheels/28/12/0b/3bbff33779039ae7c39b28ed6823face89dfb197ce852f00d6\n",
            "  Building wheel for pyu2f (setup.py) ... \u001b[?25l\u001b[?25hdone\n",
            "  Created wheel for pyu2f: filename=pyu2f-0.1.4-cp27-none-any.whl size=35211 sha256=9191129b6f9ffe6c7dc5dc3927fd93942eeebf21dab5c25b79bcef7035decb20\n",
            "  Stored in directory: /root/.cache/pip/wheels/dd/81/f3/e0def0e40af1ed1a9dc929629ec489fa56e584544208f09274\n",
            "Successfully built gsutil gcs-oauth2-boto-plugin retry-decorator SocksiPy-branch pyu2f\n",
            "Installing collected packages: argcomplete, monotonic, fasteners, pyu2f, google-reauth, asn1crypto, cryptography, pyOpenSSL, SocksiPy-branch, retry-decorator, gcs-oauth2-boto-plugin, google-apitools, gsutil\n",
            "Successfully installed SocksiPy-branch-1.1 argcomplete-1.10.0 asn1crypto-1.1.0 cryptography-2.7 fasteners-0.15 gcs-oauth2-boto-plugin-2.5 google-apitools-0.5.30 google-reauth-0.1.0 gsutil-4.44 monotonic-1.5 pyOpenSSL-19.0.0 pyu2f-0.1.4 retry-decorator-1.1.0\n"
          ],
          "name": "stdout"
        }
      ]
    },
    {
      "cell_type": "code",
      "metadata": {
        "id": "p6ZxT3cIZGCL",
        "colab_type": "code",
        "colab": {
          "base_uri": "https://localhost:8080/",
          "height": 119
        },
        "outputId": "a25eb831-d2c1-483e-e720-ee611bc47eb3"
      },
      "source": [
        "!gsutil -m cp -r gs://sf-ctrl/seqlen256_v1.ckpt ."
      ],
      "execution_count": null,
      "outputs": [
        {
          "output_type": "stream",
          "text": [
            "Copying gs://sf-ctrl/seqlen256_v1.ckpt/checkpoint...\n",
            "Copying gs://sf-ctrl/seqlen256_v1.ckpt/model.ckpt-413000.data-00000-of-00001...\n",
            "Copying gs://sf-ctrl/seqlen256_v1.ckpt/model.ckpt-413000.meta...\n",
            "Copying gs://sf-ctrl/seqlen256_v1.ckpt/model.ckpt-413000.index...\n",
            "| [4/4 files][ 12.7 GiB/ 12.7 GiB] 100% Done  74.8 MiB/s ETA 00:00:00           \n",
            "Operation completed over 4 objects/12.7 GiB.                                     \n"
          ],
          "name": "stdout"
        }
      ]
    },
    {
      "cell_type": "code",
      "metadata": {
        "id": "vqFoKn-PZHjK",
        "colab_type": "code",
        "colab": {
          "base_uri": "https://localhost:8080/",
          "height": 462
        },
        "outputId": "ac4b4845-6122-4e27-a73d-0fc1cd4a6609"
      },
      "source": [
        "!python2 pytorch_generation.py --temperature 0.5 --model seqlen256_v1.ckpt/model.ckpt-413000.data-00000-of-00001"
      ],
      "execution_count": null,
      "outputs": [
        {
          "output_type": "stream",
          "text": [
            "246534 unique words\n",
            "tcmalloc: large alloc 1262256128 bytes == 0x560e1af0e000 @  0x7f33dd3c6b6b 0x7f33dd3e6379 0x7f33892aba4a 0x7f33892ad4fa 0x7f338b501803 0x7f338b6b7548 0x7f338b502093 0x7f338b5084a9 0x7f338b85af93 0x7f33d362ebf4 0x560e0dec0e8a 0x560e0debe52a 0x560e0ded9d99 0x560e0def295e 0x560e0def256a 0x560e0deaf05b 0x560e0dec5e30 0x560e0debe52a 0x560e0debdfb9 0x560e0deeee7f 0x560e0dee9c12 0x560e0dee909d 0x560e0de97d6b 0x7f33dcfe1b97 0x560e0de975ea\n",
            "Loading vocabulary from vocab ...\n",
            "Read 6086453827 words (246531 unique) from vocabulary file.\n",
            "Loading codes from codes ...\n",
            "Read 200000 codes from the codes file.\n",
            "Found PyTorch checkpoint @ 5d11fdadc5aa3b7e75036e3df8c58c2b\n",
            "Loading instead of converting from TensorFlow\n",
            "tcmalloc: large alloc 1262256128 bytes == 0x560ff7398000 @  0x7f33dd3c6b6b 0x7f33dd3e6379 0x7f33892aba4a 0x7f33892ad4fa 0x7f338b8f5a73 0x7f33d36dc710 0x560e0deaef85 0x560e0dec5e30 0x560e0debe52a 0x560e0ded9d99 0x560e0dea9f1e 0x560e0de5838b 0x560e0de57889 0x560e0dec618a 0x560e0debe52a 0x560e0deda03c 0x560e0dea9f1e 0x560e0dec32d5 0x560e0debe52a 0x560e0dec5fce 0x560e0debe52a 0x560e0debdfb9 0x560e0deeee7f 0x560e0dee9c12 0x560e0dee909d 0x560e0de97d6b 0x7f33dcfe1b97 0x560e0de975ea\n",
            "Traceback (most recent call last):\n",
            "  File \"pytorch_generation.py\", line 107, in <module>\n",
            "    test_encoder.to('cuda')\n",
            "  File \"/usr/local/lib/python2.7/dist-packages/torch/nn/modules/module.py\", line 432, in to\n",
            "    return self._apply(convert)\n",
            "  File \"/usr/local/lib/python2.7/dist-packages/torch/nn/modules/module.py\", line 208, in _apply\n",
            "    module._apply(fn)\n",
            "  File \"/usr/local/lib/python2.7/dist-packages/torch/nn/modules/module.py\", line 208, in _apply\n",
            "    module._apply(fn)\n",
            "  File \"/usr/local/lib/python2.7/dist-packages/torch/nn/modules/module.py\", line 208, in _apply\n",
            "    module._apply(fn)\n",
            "  File \"/usr/local/lib/python2.7/dist-packages/torch/nn/modules/module.py\", line 230, in _apply\n",
            "    param_applied = fn(param)\n",
            "  File \"/usr/local/lib/python2.7/dist-packages/torch/nn/modules/module.py\", line 430, in convert\n",
            "    return t.to(device, dtype if t.is_floating_point() else None, non_blocking)\n",
            "RuntimeError: CUDA out of memory. Tried to allocate 20.00 MiB (GPU 0; 11.17 GiB total capacity; 10.71 GiB already allocated; 4.81 MiB free; 134.52 MiB cached)\n"
          ],
          "name": "stdout"
        }
      ]
    },
    {
      "cell_type": "code",
      "metadata": {
        "id": "gkdkHF7uZMn-",
        "colab_type": "code",
        "colab": {}
      },
      "source": [
        ""
      ],
      "execution_count": null,
      "outputs": []
    }
  ]
}